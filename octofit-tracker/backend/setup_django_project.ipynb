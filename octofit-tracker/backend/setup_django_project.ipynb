{
 "cells": [
  {
   "cell_type": "markdown",
   "id": "f9f16884",
   "metadata": {},
   "source": [
    "# Setting Up the Django Project\n",
    "This notebook will guide you through setting up the Django project for the OctoFit Tracker application."
   ]
  },
  {
   "cell_type": "code",
   "execution_count": 2,
   "id": "57ebaa01",
   "metadata": {},
   "outputs": [],
   "source": [
    "# Step 1: Create the Django Project\n",
    "# Run the command to create a new Django project named 'octofit_tracker' in the backend directory.\n",
    "!python -m django startproject octofit_tracker ./"
   ]
  },
  {
   "cell_type": "markdown",
   "id": "ece552d5",
   "metadata": {},
   "source": [
    "# Step 2: Verify the Project Structure\n",
    "After running the command, ensure the following structure is created:\n",
    "- `octofit-tracker/backend/octofit_tracker/`\n",
    "- `octofit-tracker/backend/manage.py`"
   ]
  },
  {
   "cell_type": "code",
   "execution_count": 4,
   "id": "c99b242b",
   "metadata": {},
   "outputs": [
    {
     "name": "stdout",
     "output_type": "stream",
     "text": [
      "^C\n"
     ]
    }
   ],
   "source": [
    "# Step 3: Run the Django Development Server\n",
    "# Navigate to the backend directory and run the server to verify the setup.\n",
    "!python manage.py runserver"
   ]
  }
 ],
 "metadata": {
  "kernelspec": {
   "display_name": "Python 3",
   "language": "python",
   "name": "python3"
  },
  "language_info": {
   "codemirror_mode": {
    "name": "ipython",
    "version": 3
   },
   "file_extension": ".py",
   "mimetype": "text/x-python",
   "name": "python",
   "nbconvert_exporter": "python",
   "pygments_lexer": "ipython3",
   "version": "3.11.9"
  }
 },
 "nbformat": 4,
 "nbformat_minor": 5
}
